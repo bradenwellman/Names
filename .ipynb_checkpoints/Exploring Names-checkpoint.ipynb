{
 "cells": [
  {
   "cell_type": "code",
   "execution_count": null,
   "id": "b990d649",
   "metadata": {},
   "outputs": [],
   "source": [
    "import numpy as np\n",
    "import pandas as pd"
   ]
  },
  {
   "cell_type": "code",
   "execution_count": null,
   "id": "5a8f3a99",
   "metadata": {},
   "outputs": [],
   "source": [
    "import plotly.express as px"
   ]
  },
  {
   "cell_type": "code",
   "execution_count": null,
   "id": "a09257dd",
   "metadata": {},
   "outputs": [],
   "source": [
    "df = pd.read_csv('babynames.csv')"
   ]
  },
  {
   "cell_type": "code",
   "execution_count": null,
   "id": "2eed9693",
   "metadata": {},
   "outputs": [],
   "source": [
    "cls = pd.read_csv('class_names.csv')"
   ]
  },
  {
   "cell_type": "code",
   "execution_count": null,
   "id": "8c06b447",
   "metadata": {},
   "outputs": [],
   "source": [
    "classdf = pd.merge(cls,df)"
   ]
  },
  {
   "cell_type": "code",
   "execution_count": null,
   "id": "07d4aaf1",
   "metadata": {},
   "outputs": [],
   "source": [
    "classdf"
   ]
  },
  {
   "cell_type": "code",
   "execution_count": null,
   "id": "20335642",
   "metadata": {},
   "outputs": [],
   "source": [
    "#classdf.groupby('name')['year'].min()\n",
    "#classdf.groupby('name')['year'].max()\n",
    "#classdf.groupby('name')['n'].sum()"
   ]
  },
  {
   "cell_type": "code",
   "execution_count": null,
   "id": "ec22ffce",
   "metadata": {},
   "outputs": [],
   "source": []
  },
  {
   "cell_type": "code",
   "execution_count": null,
   "id": "21a3f6da",
   "metadata": {},
   "outputs": [],
   "source": [
    "name = 'Isabel'\n",
    "sex = 'F'\n",
    "filt = (df.name == name) & (df.sex == sex)\n",
    "fig = px.line(df[filt], x='year',y='n')\n",
    "fig.show()"
   ]
  },
  {
   "cell_type": "code",
   "execution_count": null,
   "id": "baf2b600",
   "metadata": {},
   "outputs": [],
   "source": [
    "pyear = (df.groupby('year')['n'].sum()).reset_index()\n",
    "pyear['p_year'] = pyear['n']/pyear['n'].sum()\n",
    "name_year = df.groupby(['name','year'])['n'].sum().reset_index()\n",
    "name_year = pd.merge(name_year, pyear, on='year')\n",
    "name_year['p_name'] = name_year['n_x']/name_year['n_y']"
   ]
  },
  {
   "cell_type": "code",
   "execution_count": null,
   "id": "10010ee0",
   "metadata": {},
   "outputs": [],
   "source": [
    "def year_born(name):\n",
    "    nameDF = name_year[name_year.name==name].copy()\n",
    "    nameDF['cc'] = nameDF['p_year']*nameDF['p_name']\n",
    "    nameDF['post'] = nameDF['cc']/(nameDF['cc'].sum())\n",
    "    nameDF.sort_values('year',inplace=True)\n",
    "    fig = px.histogram(nameDF, x='year', y='post', nbins=50)\n",
    "    fig.show()"
   ]
  },
  {
   "cell_type": "code",
   "execution_count": null,
   "id": "e97261a7",
   "metadata": {},
   "outputs": [],
   "source": []
  }
 ],
 "metadata": {
  "kernelspec": {
   "display_name": "Python 3",
   "language": "python",
   "name": "python3"
  },
  "language_info": {
   "codemirror_mode": {
    "name": "ipython",
    "version": 3
   },
   "file_extension": ".py",
   "mimetype": "text/x-python",
   "name": "python",
   "nbconvert_exporter": "python",
   "pygments_lexer": "ipython3",
   "version": "3.8.8"
  }
 },
 "nbformat": 4,
 "nbformat_minor": 5
}
